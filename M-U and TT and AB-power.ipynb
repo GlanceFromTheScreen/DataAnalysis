{
 "cells": [
  {
   "cell_type": "code",
   "execution_count": 38,
   "id": "3ed3709c",
   "metadata": {},
   "outputs": [],
   "source": [
    "from scipy.stats import norm, mannwhitneyu, ttest_ind\n",
    "import pandas as pd\n",
    "import matplotlib.pyplot as plt"
   ]
  },
  {
   "cell_type": "code",
   "execution_count": 132,
   "id": "5fc1e94f",
   "metadata": {},
   "outputs": [],
   "source": [
    "n = 1000\n",
    "\n",
    "sample1 = [norm.rvs(loc=0, scale=1) for i in range(n)]\n",
    "sample2 = [norm.rvs(loc=0.3, scale=1) for i in range(n)]"
   ]
  },
  {
   "cell_type": "code",
   "execution_count": 133,
   "id": "6aa21236",
   "metadata": {},
   "outputs": [
    {
     "data": {
      "text/plain": [
       "(array([0.00429398, 0.        , 0.00429398, 0.00858795, 0.0171759 ,\n",
       "        0.04723374, 0.02146988, 0.06870362, 0.10305543, 0.14599519,\n",
       "        0.180347  , 0.1975229 , 0.33063616, 0.42939761, 0.35210604,\n",
       "        0.38216387, 0.35210604, 0.44227954, 0.38645785, 0.24475664,\n",
       "        0.180347  , 0.11164338, 0.0901735 , 0.08158555, 0.03005783,\n",
       "        0.03864578, 0.02576386, 0.00858795, 0.00429398, 0.00429398]),\n",
       " array([-3.33576068, -3.1028763 , -2.86999191, -2.63710752, -2.40422313,\n",
       "        -2.17133874, -1.93845435, -1.70556997, -1.47268558, -1.23980119,\n",
       "        -1.0069168 , -0.77403241, -0.54114802, -0.30826364, -0.07537925,\n",
       "         0.15750514,  0.39038953,  0.62327392,  0.85615831,  1.08904269,\n",
       "         1.32192708,  1.55481147,  1.78769586,  2.02058025,  2.25346464,\n",
       "         2.48634902,  2.71923341,  2.9521178 ,  3.18500219,  3.41788658,\n",
       "         3.65077097]),\n",
       " <BarContainer object of 30 artists>)"
      ]
     },
     "execution_count": 133,
     "metadata": {},
     "output_type": "execute_result"
    },
    {
     "data": {
      "image/png": "[encoded data removed]",
      "text/plain": [
       "<Figure size 640x480 with 1 Axes>"
      ]
     },
     "metadata": {},
     "output_type": "display_data"
    }
   ],
   "source": [
    "bins=30\n",
    "\n",
    "plt.hist(sample1, alpha=0.5, bins=bins, density=True)\n",
    "plt.hist(sample2, alpha=0.5, bins=bins, density=True)"
   ]
  },
  {
   "cell_type": "markdown",
   "id": "b811bde9",
   "metadata": {},
   "source": [
    "## Тест Манна-Уитни: проверяем, взяты ли выборки из одного распределения"
   ]
  },
  {
   "cell_type": "code",
   "execution_count": 134,
   "id": "782c3cae",
   "metadata": {},
   "outputs": [
    {
     "name": "stdout",
     "output_type": "stream",
     "text": [
      "U-статистика: 414625.0, p-значение: 3.806310527801448e-11\n"
     ]
    }
   ],
   "source": [
    "stat_mu, p_mu = mannwhitneyu(sample1, sample2, alternative='two-sided') \n",
    "print(f\"U-статистика: {stat_mu}, p-значение: {p_mu}\")"
   ]
  },
  {
   "cell_type": "markdown",
   "id": "2134bd7b",
   "metadata": {},
   "source": [
    "## Т-тест Стьюдента: проверяем равенство средних"
   ]
  },
  {
   "cell_type": "code",
   "execution_count": 135,
   "id": "03297a1c",
   "metadata": {},
   "outputs": [
    {
     "name": "stdout",
     "output_type": "stream",
     "text": [
      "t-статистика: -6.776963818212326, p-значение: 1.6102962159674937e-11\n"
     ]
    }
   ],
   "source": [
    "stat_tt, p_tt = ttest_ind(sample1, sample2, alternative='two-sided', equal_var=False) \n",
    "print(f\"t-статистика: {stat_tt}, p-значение: {p_tt}\")"
   ]
  },
  {
   "cell_type": "markdown",
   "id": "596110ae",
   "metadata": {},
   "source": [
    "### маленькая разница средних, большая разница дисперсий"
   ]
  },
  {
   "cell_type": "code",
   "execution_count": 139,
   "id": "970f36a4",
   "metadata": {},
   "outputs": [
    {
     "name": "stdout",
     "output_type": "stream",
     "text": [
      "U-статистика: 501151.0, p-значение: 0.9290063507668378\n",
      "t-статистика: 0.6180692641518757, p-значение: 0.5366704496053285\n"
     ]
    }
   ],
   "source": [
    "sample1 = [norm.rvs(loc=0, scale=1) for i in range(n)]\n",
    "sample2 = [norm.rvs(loc=0.1, scale=50) for i in range(n)]\n",
    "\n",
    "stat_mu, p_mu = mannwhitneyu(sample1, sample2, alternative='two-sided') \n",
    "print(f\"U-статистика: {stat_mu}, p-значение: {p_mu}\")\n",
    "\n",
    "stat_tt, p_tt = ttest_ind(sample1, sample2, alternative='two-sided', equal_var=False) \n",
    "print(f\"t-статистика: {stat_tt}, p-значение: {p_tt}\")"
   ]
  },
  {
   "cell_type": "markdown",
   "id": "b38191f2",
   "metadata": {},
   "source": [
    "### большая разница средних, большая разница дисперсий"
   ]
  },
  {
   "cell_type": "code",
   "execution_count": 146,
   "id": "1caa489d",
   "metadata": {},
   "outputs": [
    {
     "name": "stdout",
     "output_type": "stream",
     "text": [
      "U-статистика: 472783.0, p-значение: 0.03506091364133742\n",
      "t-статистика: -2.1953148122348902, p-значение: 0.028370252599072002\n"
     ]
    }
   ],
   "source": [
    "sample1 = [norm.rvs(loc=0, scale=1) for i in range(n)]\n",
    "sample2 = [norm.rvs(loc=4, scale=50) for i in range(n)]\n",
    "\n",
    "stat_mu, p_mu = mannwhitneyu(sample1, sample2, alternative='two-sided') \n",
    "print(f\"U-статистика: {stat_mu}, p-значение: {p_mu}\")\n",
    "\n",
    "stat_tt, p_tt = ttest_ind(sample1, sample2, alternative='two-sided', equal_var=False) \n",
    "print(f\"t-статистика: {stat_tt}, p-значение: {p_tt}\")"
   ]
  },
  {
   "cell_type": "code",
   "execution_count": null,
   "id": "94a24b6f",
   "metadata": {},
   "outputs": [],
   "source": []
  },
  {
   "cell_type": "markdown",
   "id": "cd56d869",
   "metadata": {},
   "source": [
    "## Небольшой итог: оба теста плохо начинают себя вести при большой разнице в дисперсиях: распределения абсолютно разные, с разными средними (последний эксперимент), но разницу расперделений не ощущает MW, разницу средних не ощущает TT"
   ]
  },
  {
   "cell_type": "code",
   "execution_count": null,
   "id": "20bcc95b",
   "metadata": {},
   "outputs": [],
   "source": []
  },
  {
   "cell_type": "markdown",
   "id": "c15eea9e",
   "metadata": {},
   "source": [
    "## Калькулятор объема выборки для заданных мощностей"
   ]
  },
  {
   "cell_type": "code",
   "execution_count": 221,
   "id": "303363d6",
   "metadata": {},
   "outputs": [],
   "source": [
    "from scipy.stats import norm, uniform\n",
    "import numpy as np\n",
    "from math import ceil"
   ]
  },
  {
   "cell_type": "code",
   "execution_count": 162,
   "id": "bcfcd0d3",
   "metadata": {},
   "outputs": [
    {
     "data": {
      "text/plain": [
       "0.0514"
      ]
     },
     "execution_count": 162,
     "metadata": {},
     "output_type": "execute_result"
    }
   ],
   "source": [
    "n = 16\n",
    "sigma = 8\n",
    "mu = 100\n",
    "experiments = 10000\n",
    "trashold1 = 1.64  # p0.95\n",
    "trashold2 = -0.86  #-p0.8\n",
    "\n",
    "check = 0\n",
    "for _ in range(experiments):\n",
    "    sample = [norm.rvs(loc=mu, scale=sigma) for i in range(n)]\n",
    "    if ((np.mean(sample) - mu) / sigma) * (n)**0.5 > trashold1:\n",
    "        check += 1\n",
    "        \n",
    "check / experiments"
   ]
  },
  {
   "cell_type": "code",
   "execution_count": 163,
   "id": "d34aa3e8",
   "metadata": {},
   "outputs": [
    {
     "data": {
      "text/plain": [
       "0.8098"
      ]
     },
     "execution_count": 163,
     "metadata": {},
     "output_type": "execute_result"
    }
   ],
   "source": [
    "mu_alt = 105\n",
    "check_alt = 0\n",
    "\n",
    "for _ in range(experiments):\n",
    "    sample = [norm.rvs(loc=mu_alt, scale=sigma) for i in range(n)]\n",
    "    if ((np.mean(sample) - mu_alt) / sigma) * (n)**0.5 > trashold2:\n",
    "        check_alt += 1\n",
    "        \n",
    "check_alt / experiments"
   ]
  },
  {
   "cell_type": "code",
   "execution_count": 240,
   "id": "ca998414",
   "metadata": {},
   "outputs": [],
   "source": [
    "def calc_power(alfa=0.05, beta=0.8, mu=100, mu_alt=105, sigma=8):\n",
    "    z_right = norm.ppf(1-alfa, 0, 1) \n",
    "    z_left = norm.ppf(1-beta, 0, 1) \n",
    "    print('Предполагаем, что дисперсия известна, и значит можно использовать ЦПТ.')\n",
    "    se = (mu_alt - mu) / (z_right - z_left)\n",
    "    n = (sigma / se) ** 2\n",
    "    x = z_right * se + mu\n",
    "    print('\\nРешение:')\n",
    "    print(f'При объеме выборки n={ceil(n)} вероятность отклонить H0 (mu={mu}), если она верна, равна {alfa}. Порог отклонения: {round(x, 4)}')\n",
    "    print(f'При объеме выборки n={ceil(n)} вероятность принять H0 (mu={mu}), если она не верна (то есть верна H1: mu={mu_alt}), равна {round(1-beta, 2)}. Порог отклонения: {round(x, 4)}')\n",
    "    return {'n': n, 'x': x}"
   ]
  },
  {
   "cell_type": "code",
   "execution_count": 241,
   "id": "ff8dc6ca",
   "metadata": {},
   "outputs": [
    {
     "name": "stdout",
     "output_type": "stream",
     "text": [
      "Предполагаем, что дисперсия известна, и значит можно использовать ЦПТ.\n",
      "\n",
      "Решение:\n",
      "При объеме выборки n=16 вероятность отклонить H0 (mu=100), если она верна, равна 0.05. Порог отклонения: 103.3076\n",
      "При объеме выборки n=16 вероятность принять H0 (mu=100), если она не верна (то есть верна H1: mu=105), равна 0.2. Порог отклонения: 103.3076\n"
     ]
    },
    {
     "data": {
      "text/plain": [
       "{'n': 15.8273465139706, 'x': 103.30760156289008}"
      ]
     },
     "execution_count": 241,
     "metadata": {},
     "output_type": "execute_result"
    }
   ],
   "source": [
    "calc_power()"
   ]
  },
  {
   "cell_type": "code",
   "execution_count": 242,
   "id": "068e2312",
   "metadata": {},
   "outputs": [
    {
     "name": "stdout",
     "output_type": "stream",
     "text": [
      "Предполагаем, что дисперсия известна, и значит можно использовать ЦПТ.\n",
      "\n",
      "Решение:\n",
      "При объеме выборки n=44 вероятность отклонить H0 (mu=100), если она верна, равна 0.05. Порог отклонения: 101.9846\n",
      "При объеме выборки n=44 вероятность принять H0 (mu=100), если она не верна (то есть верна H1: mu=103), равна 0.2. Порог отклонения: 101.9846\n"
     ]
    },
    {
     "data": {
      "text/plain": [
       "{'n': 43.964851427696104, 'x': 101.98456093773405}"
      ]
     },
     "execution_count": 242,
     "metadata": {},
     "output_type": "execute_result"
    }
   ],
   "source": [
    "calc_power(alfa=0.05, beta=0.8, mu=100, mu_alt=103, sigma=8)"
   ]
  },
  {
   "cell_type": "code",
   "execution_count": 245,
   "id": "6e267d2d",
   "metadata": {},
   "outputs": [
    {
     "name": "stdout",
     "output_type": "stream",
     "text": [
      "доля средних значений выборкок со средним mu=100, первышающих порог 101.9845: 0.05\n",
      "доля средних значений выборкок со средним mu=103, первышающих порог 101.9845: 0.785\n"
     ]
    }
   ],
   "source": [
    "def check_power(n=44, sigma=8, mu=100, mu_alt=103, trashold=101.9845, experiments=1000):\n",
    "    check = 0\n",
    "    check_alt = 0\n",
    "    for _ in range(experiments):\n",
    "        sample = [norm.rvs(loc=mu, scale=sigma) for i in range(n)]\n",
    "        sample_alt = [norm.rvs(loc=mu_alt, scale=sigma) for i in range(n)]\n",
    "        if np.mean(sample) > trashold:\n",
    "            check += 1\n",
    "        if np.mean(sample_alt) > trashold:\n",
    "            check_alt += 1\n",
    "    print(f'доля средних значений выборкок со средним mu={mu}, первышающих порог {trashold}: {check / experiments}')\n",
    "    print(f'доля средних значений выборкок со средним mu={mu_alt}, первышающих порог {trashold}: {check_alt / experiments}')\n",
    "\n",
    "check_power()"
   ]
  },
  {
   "cell_type": "code",
   "execution_count": null,
   "id": "24a8b309",
   "metadata": {},
   "outputs": [],
   "source": []
  }
 ],
 "metadata": {
  "kernelspec": {
   "display_name": "Python 3 (ipykernel)",
   "language": "python",
   "name": "python3"
  },
  "language_info": {
   "codemirror_mode": {
    "name": "ipython",
    "version": 3
   },
   "file_extension": ".py",
   "mimetype": "text/x-python",
   "name": "python",
   "nbconvert_exporter": "python",
   "pygments_lexer": "ipython3",
   "version": "3.11.0"
  }
 },
 "nbformat": 4,
 "nbformat_minor": 5
}
